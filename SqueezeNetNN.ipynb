{
 "cells": [
  {
   "cell_type": "code",
   "execution_count": 1,
   "metadata": {
    "colab": {},
    "colab_type": "code",
    "id": "9u3d4Z7uQsmp"
   },
   "outputs": [
    {
     "name": "stderr",
     "output_type": "stream",
     "text": [
      "Using TensorFlow backend.\n"
     ]
    }
   ],
   "source": [
    "import os, math, json, random, time\n",
    "import numpy as np\n",
    "from matplotlib import pyplot as plt\n",
    "import tensorflow as tf\n",
    "AUTO = tf.data.experimental.AUTOTUNE\n",
    "from keras_applications.imagenet_utils import _obtain_input_shape\n",
    "from keras import backend as K\n",
    "from keras.layers import Input, Convolution2D, MaxPooling2D, Activation, concatenate, Dropout\n",
    "from keras.layers import GlobalAveragePooling2D, GlobalMaxPooling2D\n",
    "from keras.models import Model\n",
    "from keras.engine.topology import get_source_inputs\n",
    "from keras.utils import get_file\n",
    "from keras.utils import layer_utils\n",
    "\n",
    "\n",
    "import numpy as np\n",
    "from keras.applications.imagenet_utils import preprocess_input, decode_predictions\n",
    "from keras.preprocessing import image"
   ]
  },
  {
   "cell_type": "code",
   "execution_count": 2,
   "metadata": {},
   "outputs": [
    {
     "data": {
      "text/plain": [
       "'[[[ 95  69 108]\\n  [135 109 136]\\n  [124 103 112]\\n  ...\\n  [135  77  40]\\n  [127  79  43]\\n  [100  61  44]]\\n\\n [[171 145 154]\\n  [227 205 208]\\n  [235 217 213]\\n  ...\\n  [215 154  91]\\n  [211 161 100]\\n  [169 130  87]]\\n\\n [[170 152 132]\\n  [253 238 219]\\n  [255 254 238]\\n  ...\\n  [216 151  67]\\n  [220 169  88]\\n  [163 125  62]]\\n\\n ...\\n\\n [[ 76  56  58]\\n  [ 51  26  29]\\n  [ 48  18  20]\\n  ...\\n  [ 22  14  12]\\n  [ 27  11  11]\\n  [ 37  16  15]]\\n\\n [[ 44  29  32]\\n  [ 31  16  21]\\n  [ 35  19  22]\\n  ...\\n  [ 23  17  19]\\n  [ 23  11  15]\\n  [ 26  10  13]]\\n\\n [[ 27   5   7]\\n  [ 24   5   7]\\n  [ 25  13  15]\\n  ...\\n  [ 28  17  23]\\n  [ 22   7  14]\\n  [ 19   2  10]]]'"
      ]
     },
     "execution_count": 2,
     "metadata": {},
     "output_type": "execute_result"
    }
   ],
   "source": [
    "# Load the data\n",
    "import pandas as pd \n",
    "\n",
    "data = pd.read_csv('combined_json_and_images.csv') \n",
    "\n",
    "# Preview the first 5 lines of the loaded data \n",
    "data.image[0]"
   ]
  },
  {
   "cell_type": "code",
   "execution_count": 7,
   "metadata": {},
   "outputs": [],
   "source": [
    "# Here's our 5 categories that we have to classify.\n",
    "# class_names = ['inside', 'outside', 'food', 'drink', 'menu']\n",
    "from sklearn.model_selection import train_test_split\n",
    "class_names = ['drink', 'food', 'inside', 'menu', 'outside']\n",
    "class_names_label = { 0:'drink',\n",
    "                      1: 'food',\n",
    "                      2: 'inside',\n",
    "                      3: 'menu',\n",
    "                      4: 'outside',\n",
    "                    }\n",
    "nb_classes = 5\n",
    "x= data.drop(columns=['class_names_label'],axis=1)\n",
    "y= data['class_names_label']\n",
    "x_train_o, x_test_o, y_train , y_test  = train_test_split(x, y, test_size=0.20, random_state=42)"
   ]
  },
  {
   "cell_type": "code",
   "execution_count": 0,
   "metadata": {
    "colab": {},
    "colab_type": "code",
    "id": "FpvUOuC3j27n"
   },
   "outputs": [],
   "source": [
    "tpu = tf.contrib.cluster_resolver.TPUClusterResolver()"
   ]
  },
  {
   "cell_type": "code",
   "execution_count": 0,
   "metadata": {
    "colab": {},
    "colab_type": "code",
    "id": "M3G-2aUBQJ-H"
   },
   "outputs": [],
   "source": [
    "GCS_PATTERN = 'gs://flowers-public/tfrecords-jpeg-192x192-2/*.tfrec'\n",
    "IMAGE_SIZE = [192, 192]\n",
    "\n",
    "BATCH_SIZE = 128\n",
    "\n",
    "VALIDATION_SPLIT = 0.19\n",
    "CLASSES = ['drink', 'food', 'inside', 'menu', 'outside']\n",
    "\n",
    "filenames = tf.gfile.Glob(GCS_PATTERN)\n",
    "split = int(len(filenames) * VALIDATION_SPLIT)\n",
    "training_filenames = filenames[split:]\n",
    "validation_filenames = filenames[:split]\n",
    "validation_steps = int(3670 // len(filenames) * len(validation_filenames)) // BATCH_SIZE\n",
    "steps_per_epoch = int(3670 // len(filenames) * len(training_filenames)) // BATCH_SIZE"
   ]
  },
  {
   "cell_type": "code",
   "execution_count": 0,
   "metadata": {
    "colab": {},
    "colab_type": "code",
    "id": "LtAVr-4CP1rp"
   },
   "outputs": [],
   "source": [
    "def read_tfrecord(example):\n",
    "    features = {\n",
    "        \"image\": tf.io.FixedLenFeature([], tf.string), \n",
    "        \"class\": tf.io.FixedLenFeature([], tf.int64),\n",
    "        \"one_hot_class\": tf.io.VarLenFeature(tf.float32),\n",
    "    }\n",
    "    example = tf.parse_single_example(example, features)\n",
    "    image = tf.image.decode_jpeg(example['image'], channels=3)\n",
    "    image = tf.cast(image, tf.float32) / 255.0  # convert image to floats in [0, 1] range\n",
    "    image = tf.reshape(image, [*IMAGE_SIZE, 3])\n",
    "    class_label = tf.cast(example['class'], tf.int32)\n",
    "    one_hot_class = tf.sparse.to_dense(example['one_hot_class'])\n",
    "    one_hot_class = tf.reshape(one_hot_class, [5])\n",
    "    return image, one_hot_class\n",
    "\n",
    "def load_dataset(filenames):\n",
    "\n",
    "  option_no_order = tf.data.Options()\n",
    "  option_no_order.experimental_deterministic = False\n",
    "\n",
    "  dataset = tf.data.Dataset.from_tensor_slices(filenames)\n",
    "  dataset = dataset.with_options(option_no_order)\n",
    "  dataset = dataset.interleave(tf.data.TFRecordDataset, cycle_length=16, num_parallel_calls=AUTO) # faster\n",
    "  dataset = dataset.map(read_tfrecord, num_parallel_calls=AUTO)\n",
    "  return dataset"
   ]
  },
  {
   "cell_type": "markdown",
   "metadata": {
    "colab_type": "text",
    "id": "22rVDTx8wCqE"
   },
   "source": [
    "## training and validation datasets"
   ]
  },
  {
   "cell_type": "code",
   "execution_count": 0,
   "metadata": {
    "colab": {},
    "colab_type": "code",
    "id": "7wxKyCklR4Gh"
   },
   "outputs": [],
   "source": [
    "def data_augment(image, one_hot_class):\n",
    "    image = tf.image.random_flip_left_right(image)\n",
    "    image = tf.image.random_saturation(image, 0, 2)\n",
    "    return image, one_hot_class# Plot a pie chart to check proporation of each observed category\n",
    "\n",
    "sizes = np.bincount(y)\n",
    "explode = (0, 0, 0, 0, 0, 0)  \n",
    "plt.pie(sizes, explode=None, labels=class_names,\n",
    "autopct='%1.1f%%', shadow=True, startangle=150)\n",
    "plt.axis('equal')\n",
    "plt.title('Proportion of each observed category')\n",
    "\n",
    "plt.show()\n",
    "\n",
    "def get_batched_dataset(filenames, augment_data):\n",
    "  dataset = load_dataset(filenames)\n",
    "  dataset = dataset.cache() # This dataset fits in RAM\n",
    "  dataset = dataset.repeat()\n",
    "  if augment_data:\n",
    "      dataset = dataset.map(data_augment, num_parallel_calls=AUTO)\n",
    "  dataset = dataset.shuffle(2048)\n",
    "  dataset = dataset.batch(BATCH_SIZE, drop_remainder=True)\n",
    "  dataset = dataset.prefetch(AUTO)\n",
    "  return dataset\n",
    "\n",
    "def get_training_dataset():\n",
    "  return get_batched_dataset(training_filenames, augment_data=True)\n",
    "\n",
    "def get_validation_dataset():\n",
    "  return get_batched_dataset(validation_filenames, augment_data=False)\n",
    "\n",
    "some_flowers, some_labels = dataset_to_numpy_util(load_dataset(validation_filenames), 8*20)"
   ]
  },
  {
   "cell_type": "code",
   "execution_count": 8,
   "metadata": {},
   "outputs": [
    {
     "data": {
      "image/png": "[encoded data removed]",
      "text/plain": [
       "<Figure size 432x288 with 1 Axes>"
      ]
     },
     "metadata": {},
     "output_type": "display_data"
    }
   ],
   "source": [
    "# Plot a pie chart to check proporation of each observed category\n",
    "\n",
    "sizes = np.bincount(y)\n",
    "explode = (0, 0, 0, 0, 0, 0)  \n",
    "plt.pie(sizes, explode=None, labels=class_names,\n",
    "autopct='%1.1f%%', shadow=True, startangle=150)\n",
    "plt.axis('equal')\n",
    "plt.title('Proportion of each observed category')\n",
    "\n",
    "plt.show()"
   ]
  },
  {
   "cell_type": "markdown",
   "metadata": {
    "colab_type": "text",
    "id": "ALtRUlxhw8Vt"
   },
   "source": [
    "## Model"
   ]
  },
  {
   "cell_type": "code",
   "execution_count": 35,
   "metadata": {
    "colab": {
     "base_uri": "https://localhost:8080/",
     "height": 1000
    },
    "colab_type": "code",
    "id": "XLJNVGwHUDy1",
    "outputId": "7280e4c6-5b0d-47b8-d1a4-db3745f3263f"
   },
   "outputs": [
    {
     "name": "stdout",
     "output_type": "stream",
     "text": [
      "Model: \"model_2\"\n",
      "__________________________________________________________________________________________________\n",
      "Layer (type)                    Output Shape         Param #     Connected to                     \n",
      "==================================================================================================\n",
      "input_3 (InputLayer)            [(None, 192, 192, 3) 0                                            \n",
      "__________________________________________________________________________________________________\n",
      "conv2d_32 (Conv2D)              (None, 192, 192, 32) 896         input_3[0][0]                    \n",
      "__________________________________________________________________________________________________\n",
      "batch_normalization_32 (BatchNo (None, 192, 192, 32) 128         conv2d_32[0][0]                  \n",
      "__________________________________________________________________________________________________\n",
      "conv2d_33 (Conv2D)              (None, 192, 192, 24) 792         batch_normalization_32[0][0]     \n",
      "__________________________________________________________________________________________________\n",
      "batch_normalization_33 (BatchNo (None, 192, 192, 24) 96          conv2d_33[0][0]                  \n",
      "__________________________________________________________________________________________________\n",
      "conv2d_34 (Conv2D)              (None, 192, 192, 24) 600         batch_normalization_33[0][0]     \n",
      "__________________________________________________________________________________________________\n",
      "conv2d_35 (Conv2D)              (None, 192, 192, 24) 5208        batch_normalization_33[0][0]     \n",
      "__________________________________________________________________________________________________\n",
      "batch_normalization_34 (BatchNo (None, 192, 192, 24) 96          conv2d_34[0][0]                  \n",
      "__________________________________________________________________________________________________\n",
      "batch_normalization_35 (BatchNo (None, 192, 192, 24) 96          conv2d_35[0][0]                  \n",
      "__________________________________________________________________________________________________\n",
      "concatenate_10 (Concatenate)    (None, 192, 192, 48) 0           batch_normalization_34[0][0]     \n",
      "                                                                 batch_normalization_35[0][0]     \n",
      "__________________________________________________________________________________________________\n",
      "max_pooling2d_8 (MaxPooling2D)  (None, 96, 96, 48)   0           concatenate_10[0][0]             \n",
      "__________________________________________________________________________________________________\n",
      "conv2d_36 (Conv2D)              (None, 96, 96, 48)   2352        max_pooling2d_8[0][0]            \n",
      "__________________________________________________________________________________________________\n",
      "batch_normalization_36 (BatchNo (None, 96, 96, 48)   192         conv2d_36[0][0]                  \n",
      "__________________________________________________________________________________________________\n",
      "conv2d_37 (Conv2D)              (None, 96, 96, 48)   2352        batch_normalization_36[0][0]     \n",
      "__________________________________________________________________________________________________\n",
      "conv2d_38 (Conv2D)              (None, 96, 96, 48)   20784       batch_normalization_36[0][0]     \n",
      "__________________________________________________________________________________________________\n",
      "batch_normalization_37 (BatchNo (None, 96, 96, 48)   192         conv2d_37[0][0]                  \n",
      "__________________________________________________________________________________________________\n",
      "batch_normalization_38 (BatchNo (None, 96, 96, 48)   192         conv2d_38[0][0]                  \n",
      "__________________________________________________________________________________________________\n",
      "concatenate_11 (Concatenate)    (None, 96, 96, 96)   0           batch_normalization_37[0][0]     \n",
      "                                                                 batch_normalization_38[0][0]     \n",
      "__________________________________________________________________________________________________\n",
      "max_pooling2d_9 (MaxPooling2D)  (None, 48, 48, 96)   0           concatenate_11[0][0]             \n",
      "__________________________________________________________________________________________________\n",
      "conv2d_39 (Conv2D)              (None, 48, 48, 64)   6208        max_pooling2d_9[0][0]            \n",
      "__________________________________________________________________________________________________\n",
      "batch_normalization_39 (BatchNo (None, 48, 48, 64)   256         conv2d_39[0][0]                  \n",
      "__________________________________________________________________________________________________\n",
      "conv2d_40 (Conv2D)              (None, 48, 48, 64)   4160        batch_normalization_39[0][0]     \n",
      "__________________________________________________________________________________________________\n",
      "conv2d_41 (Conv2D)              (None, 48, 48, 64)   36928       batch_normalization_39[0][0]     \n",
      "__________________________________________________________________________________________________\n",
      "batch_normalization_40 (BatchNo (None, 48, 48, 64)   256         conv2d_40[0][0]                  \n",
      "__________________________________________________________________________________________________\n",
      "batch_normalization_41 (BatchNo (None, 48, 48, 64)   256         conv2d_41[0][0]                  \n",
      "__________________________________________________________________________________________________\n",
      "concatenate_12 (Concatenate)    (None, 48, 48, 128)  0           batch_normalization_40[0][0]     \n",
      "                                                                 batch_normalization_41[0][0]     \n",
      "__________________________________________________________________________________________________\n",
      "max_pooling2d_10 (MaxPooling2D) (None, 24, 24, 128)  0           concatenate_12[0][0]             \n",
      "__________________________________________________________________________________________________\n",
      "conv2d_42 (Conv2D)              (None, 24, 24, 48)   6192        max_pooling2d_10[0][0]           \n",
      "__________________________________________________________________________________________________\n",
      "batch_normalization_42 (BatchNo (None, 24, 24, 48)   192         conv2d_42[0][0]                  \n",
      "__________________________________________________________________________________________________\n",
      "conv2d_43 (Conv2D)              (None, 24, 24, 48)   2352        batch_normalization_42[0][0]     \n",
      "__________________________________________________________________________________________________\n",
      "conv2d_44 (Conv2D)              (None, 24, 24, 48)   20784       batch_normalization_42[0][0]     \n",
      "__________________________________________________________________________________________________\n",
      "batch_normalization_43 (BatchNo (None, 24, 24, 48)   192         conv2d_43[0][0]                  \n",
      "__________________________________________________________________________________________________\n",
      "batch_normalization_44 (BatchNo (None, 24, 24, 48)   192         conv2d_44[0][0]                  \n",
      "__________________________________________________________________________________________________\n",
      "concatenate_13 (Concatenate)    (None, 24, 24, 96)   0           batch_normalization_43[0][0]     \n",
      "                                                                 batch_normalization_44[0][0]     \n",
      "__________________________________________________________________________________________________\n",
      "max_pooling2d_11 (MaxPooling2D) (None, 12, 12, 96)   0           concatenate_13[0][0]             \n",
      "__________________________________________________________________________________________________\n",
      "conv2d_45 (Conv2D)              (None, 12, 12, 24)   2328        max_pooling2d_11[0][0]           \n",
      "__________________________________________________________________________________________________\n",
      "batch_normalization_45 (BatchNo (None, 12, 12, 24)   96          conv2d_45[0][0]                  \n",
      "__________________________________________________________________________________________________\n",
      "conv2d_46 (Conv2D)              (None, 12, 12, 24)   600         batch_normalization_45[0][0]     \n",
      "__________________________________________________________________________________________________\n",
      "conv2d_47 (Conv2D)              (None, 12, 12, 24)   5208        batch_normalization_45[0][0]     \n",
      "__________________________________________________________________________________________________\n",
      "batch_normalization_46 (BatchNo (None, 12, 12, 24)   96          conv2d_46[0][0]                  \n",
      "__________________________________________________________________________________________________\n",
      "batch_normalization_47 (BatchNo (None, 12, 12, 24)   96          conv2d_47[0][0]                  \n",
      "__________________________________________________________________________________________________\n",
      "concatenate_14 (Concatenate)    (None, 12, 12, 48)   0           batch_normalization_46[0][0]     \n",
      "                                                                 batch_normalization_47[0][0]     \n",
      "__________________________________________________________________________________________________\n",
      "global_average_pooling2d_2 (Glo (None, 48)           0           concatenate_14[0][0]             \n",
      "__________________________________________________________________________________________________\n",
      "dense_2 (Dense)                 (None, 5)            245         global_average_pooling2d_2[0][0] \n",
      "==================================================================================================\n",
      "Total params: 120,613\n",
      "Trainable params: 119,301\n",
      "Non-trainable params: 1,312\n",
      "__________________________________________________________________________________________________\n"
     ]
    }
   ],
   "source": [
    "bnmomemtum=0.9\n",
    "def fire(x, squeeze, expand):\n",
    "  y  = tf.keras.layers.Conv2D(filters=squeeze, kernel_size=1, activation='relu', padding='same')(x)\n",
    "  y = tf.keras.layers.BatchNormalization(momentum=bnmomemtum)(y)\n",
    "  y1 = tf.keras.layers.Conv2D(filters=expand//2, kernel_size=1, activation='relu', padding='same')(y)\n",
    "  y1 = tf.keras.layers.BatchNormalization(momentum=bnmomemtum)(y1)\n",
    "  y3 = tf.keras.layers.Conv2D(filters=expand//2, kernel_size=3, activation='relu', padding='same')(y)\n",
    "  y3 = tf.keras.layers.BatchNormalization(momentum=bnmomemtum)(y3)\n",
    "  return tf.keras.layers.concatenate([y1, y3])\n",
    "\n",
    "def fire_module(squeeze, expand):\n",
    "  return lambda x: fire(x, squeeze, expand)\n",
    "\n",
    "x = tf.keras.layers.Input(shape=[*IMAGE_SIZE, 3]) # input is 192x192 pixels RGB\n",
    "\n",
    "y = tf.keras.layers.Conv2D(kernel_size=3, filters=32, padding='same', use_bias=True, activation='relu')(x)\n",
    "y = tf.keras.layers.BatchNormalization(momentum=bnmomemtum)(y)\n",
    "y = fire_module(24, 48)(y)\n",
    "y = tf.keras.layers.MaxPooling2D(pool_size=2)(y)\n",
    "y = fire_module(48, 96)(y)\n",
    "y = tf.keras.layers.MaxPooling2D(pool_size=2)(y)\n",
    "y = fire_module(64, 128)(y)\n",
    "y = tf.keras.layers.MaxPooling2D(pool_size=2)(y)\n",
    "y = fire_module(48, 96)(y)\n",
    "y = tf.keras.layers.MaxPooling2D(pool_size=2)(y)\n",
    "y = fire_module(24, 48)(y)\n",
    "y = tf.keras.layers.GlobalAveragePooling2D()(y)\n",
    "y = tf.keras.layers.Dense(5, activation='softmax')(y)\n",
    "\n",
    "model = tf.keras.Model(x, y)\n",
    "\n",
    "model.compile(\n",
    "  optimizer='adam',\n",
    "  loss= 'categorical_crossentropy',\n",
    "  metrics=['accuracy'])\n",
    "\n",
    "model.summary()"
   ]
  },
  {
   "cell_type": "markdown",
   "metadata": {
    "colab_type": "text",
    "id": "dMfenMQcxAAb"
   },
   "source": [
    "## Training"
   ]
  },
  {
   "cell_type": "code",
   "execution_count": 0,
   "metadata": {
    "colab": {
     "base_uri": "https://localhost:8080/",
     "height": 306
    },
    "colab_type": "code",
    "id": "qGYZ2uOxLgkr",
    "outputId": "681964c6-2171-48ac-c685-5d5851730f30"
   },
   "outputs": [
    {
     "name": "stdout",
     "output_type": "stream",
     "text": [
      "INFO:tensorflow:Querying Tensorflow master (grpc://192.168.43.2:8470) for TPU system metadata.\n",
      "INFO:tensorflow:Found TPU system:\n",
      "INFO:tensorflow:*** Num TPU Cores: 8\n",
      "INFO:tensorflow:*** Num TPU Workers: 1\n",
      "INFO:tensorflow:*** Num TPU Cores Per Worker: 8\n",
      "INFO:tensorflow:*** Available Device: _DeviceAttributes(/job:worker/replica:0/task:0/device:CPU:0, CPU, -1, 9395547180570580755)\n",
      "INFO:tensorflow:*** Available Device: _DeviceAttributes(/job:worker/replica:0/task:0/device:XLA_CPU:0, XLA_CPU, 17179869184, 6367633851149154879)\n",
      "INFO:tensorflow:*** Available Device: _DeviceAttributes(/job:worker/replica:0/task:0/device:TPU:0, TPU, 17179869184, 11596888001717943185)\n",
      "INFO:tensorflow:*** Available Device: _DeviceAttributes(/job:worker/replica:0/task:0/device:TPU:1, TPU, 17179869184, 9183457543646557935)\n",
      "INFO:tensorflow:*** Available Device: _DeviceAttributes(/job:worker/replica:0/task:0/device:TPU:2, TPU, 17179869184, 10822347198377972777)\n",
      "INFO:tensorflow:*** Available Device: _DeviceAttributes(/job:worker/replica:0/task:0/device:TPU:3, TPU, 17179869184, 5956408950500829060)\n",
      "INFO:tensorflow:*** Available Device: _DeviceAttributes(/job:worker/replica:0/task:0/device:TPU:4, TPU, 17179869184, 922822146319201418)\n",
      "INFO:tensorflow:*** Available Device: _DeviceAttributes(/job:worker/replica:0/task:0/device:TPU:5, TPU, 17179869184, 6791916320445230285)\n",
      "INFO:tensorflow:*** Available Device: _DeviceAttributes(/job:worker/replica:0/task:0/device:TPU:6, TPU, 17179869184, 5871677175911293786)\n",
      "INFO:tensorflow:*** Available Device: _DeviceAttributes(/job:worker/replica:0/task:0/device:TPU:7, TPU, 17179869184, 11941388521539288345)\n",
      "INFO:tensorflow:*** Available Device: _DeviceAttributes(/job:worker/replica:0/task:0/device:TPU_SYSTEM:0, TPU_SYSTEM, 17179869184, 186432556399494142)\n",
      "WARNING:tensorflow:tpu_model (from tensorflow.contrib.tpu.python.tpu.keras_support) is experimental and may change or be removed at any time, and without warning.\n",
      "INFO:tensorflow:Cloning Adam {'beta_2': 0.9990000128746033, 'beta_1': 0.8999999761581421, 'epsilon': 1e-07, 'lr': 0.0010000000474974513, 'decay': 0.0, 'amsgrad': False}\n",
      "INFO:tensorflow:Cloning Adam {'beta_2': 0.9990000128746033, 'beta_1': 0.8999999761581421, 'epsilon': 1e-07, 'lr': 0.0010000000474974513, 'decay': 0.0, 'amsgrad': False}\n"
     ]
    }
   ],
   "source": [
    "strategy = tf.contrib.tpu.TPUDistributionStrategy(tpu)\n",
    "tpu_model = tf.contrib.tpu.keras_to_tpu_model(model, strategy=strategy)"
   ]
  },
  {
   "cell_type": "code",
   "execution_count": 0,
   "metadata": {
    "colab": {
     "base_uri": "https://localhost:8080/",
     "height": 904
    },
    "colab_type": "code",
    "id": "M-ID7vP5mIKs",
    "outputId": "1403675f-3853-4aed-94ea-bcc1b68026e7"
   },
   "outputs": [
    {
     "name": "stdout",
     "output_type": "stream",
     "text": [
      "Epoch 1/15\n",
      "INFO:tensorflow:New input shapes; (re-)compiling: mode=train (# of cores 8), [TensorSpec(shape=(128,), dtype=tf.int32, name=None), TensorSpec(shape=(128, 192, 192, 3), dtype=tf.float32, name=None), TensorSpec(shape=(128, 5), dtype=tf.float32, name=None)]\n",
      "INFO:tensorflow:Overriding default placeholder.\n",
      "INFO:tensorflow:Cloning Adam {'beta_2': 0.9990000128746033, 'beta_1': 0.8999999761581421, 'epsilon': 1e-07, 'lr': 0.0010000000474974513, 'decay': 0.0, 'amsgrad': False}\n",
      "INFO:tensorflow:Remapping placeholder for input_1\n",
      "WARNING:tensorflow:From /usr/local/lib/python3.5/dist-packages/tensorflow/contrib/tpu/python/tpu/keras_support.py:302: to_float (from tensorflow.python.ops.math_ops) is deprecated and will be removed in a future version.\n",
      "Instructions for updating:\n",
      "Use tf.cast instead.\n",
      "INFO:tensorflow:KerasCrossShard: <tensorflow.python.keras.optimizers.Adam object at 0x7f9d324357f0> []\n",
      "WARNING:tensorflow:From /usr/local/lib/python3.5/dist-packages/tensorflow/python/ops/math_ops.py:3066: to_int32 (from tensorflow.python.ops.math_ops) is deprecated and will be removed in a future version.\n",
      "Instructions for updating:\n",
      "Use tf.cast instead.\n",
      "INFO:tensorflow:Started compiling\n",
      "INFO:tensorflow:Finished compiling. Time elapsed: 18.098301887512207 secs\n",
      "INFO:tensorflow:Setting weights on TPU model.\n",
      "INFO:tensorflow:CPU -> TPU beta_2: 0.9990000128746033 {0.999}\n",
      "INFO:tensorflow:CPU -> TPU beta_1: 0.8999999761581421 {0.9}\n",
      "WARNING:tensorflow:Cannot update non-variable config: epsilon\n",
      "INFO:tensorflow:CPU -> TPU lr: 0.0010000000474974513 {0.001}\n",
      "INFO:tensorflow:CPU -> TPU decay: 0.0 {0.0}\n",
      "WARNING:tensorflow:Cannot update non-variable config: amsgrad\n",
      "22/23 [===========================>..] - ETA: 2s - loss: 1.1371 - acc: 0.5558INFO:tensorflow:New input shapes; (re-)compiling: mode=eval (# of cores 8), [TensorSpec(shape=(128,), dtype=tf.int32, name=None), TensorSpec(shape=(128, 192, 192, 3), dtype=tf.float32, name=None), TensorSpec(shape=(128, 5), dtype=tf.float32, name=None)]\n",
      "INFO:tensorflow:Overriding default placeholder.\n",
      "INFO:tensorflow:Cloning Adam {'beta_2': 0.9990000128746033, 'beta_1': 0.8999999761581421, 'epsilon': 1e-07, 'lr': 0.0010000000474974513, 'decay': 0.0, 'amsgrad': False}\n",
      "INFO:tensorflow:Remapping placeholder for input_1\n",
      "INFO:tensorflow:KerasCrossShard: <tensorflow.python.keras.optimizers.Adam object at 0x7f9cd0801f60> []\n",
      "INFO:tensorflow:Started compiling\n",
      "INFO:tensorflow:Finished compiling. Time elapsed: 9.21638822555542 secs\n",
      "23/23 [==============================] - 83s 4s/step - loss: 1.1274 - acc: 0.5604 - val_loss: 2.8444 - val_acc: 0.2369\n",
      "Epoch 2/15\n",
      "23/23 [==============================] - 7s 296ms/step - loss: 0.8550 - acc: 0.6796 - val_loss: 1.6550 - val_acc: 0.4414\n",
      "Epoch 3/15\n",
      "23/23 [==============================] - 7s 297ms/step - loss: 0.7286 - acc: 0.7300 - val_loss: 0.7840 - val_acc: 0.7088\n",
      "Epoch 4/15\n",
      "23/23 [==============================] - 7s 298ms/step - loss: 0.6329 - acc: 0.7731 - val_loss: 0.6621 - val_acc: 0.7547\n",
      "Epoch 5/15\n",
      "23/23 [==============================] - 7s 296ms/step - loss: 0.5823 - acc: 0.7895 - val_loss: 0.6417 - val_acc: 0.7625\n",
      "Epoch 6/15\n",
      "23/23 [==============================] - 7s 297ms/step - loss: 0.5155 - acc: 0.8161 - val_loss: 0.6441 - val_acc: 0.7697\n",
      "Epoch 7/15\n",
      "23/23 [==============================] - 7s 296ms/step - loss: 0.4720 - acc: 0.8362 - val_loss: 0.6346 - val_acc: 0.7668\n",
      "Epoch 8/15\n",
      "23/23 [==============================] - 7s 297ms/step - loss: 0.4279 - acc: 0.8466 - val_loss: 0.6878 - val_acc: 0.7479\n",
      "Epoch 9/15\n",
      "23/23 [==============================] - 7s 297ms/step - loss: 0.3976 - acc: 0.8575 - val_loss: 0.6505 - val_acc: 0.7586\n",
      "Epoch 10/15\n",
      "23/23 [==============================] - 7s 297ms/step - loss: 0.3569 - acc: 0.8753 - val_loss: 0.5721 - val_acc: 0.7990\n",
      "Epoch 11/15\n",
      "23/23 [==============================] - 7s 296ms/step - loss: 0.3207 - acc: 0.8905 - val_loss: 0.6561 - val_acc: 0.7621\n",
      "Epoch 12/15\n",
      "23/23 [==============================] - 7s 296ms/step - loss: 0.2900 - acc: 0.9028 - val_loss: 0.6494 - val_acc: 0.7857\n",
      "Epoch 13/15\n",
      "23/23 [==============================] - 7s 297ms/step - loss: 0.2580 - acc: 0.9130 - val_loss: 0.6280 - val_acc: 0.7836\n",
      "Epoch 14/15\n",
      "23/23 [==============================] - 7s 296ms/step - loss: 0.2463 - acc: 0.9190 - val_loss: 0.6751 - val_acc: 0.7426\n",
      "Epoch 15/15\n",
      "23/23 [==============================] - 7s 298ms/step - loss: 0.1997 - acc: 0.9392 - val_loss: 0.5852 - val_acc: 0.8092\n",
      "Time elapsed:  180.92546439170837  sec\n"
     ]
    }
   ],
   "source": [
    "EPOCHS = 15\n",
    "\n",
    "start_time = time.time()\n",
    "\n",
    "history = tpu_model.fit(get_training_dataset, steps_per_epoch=steps_per_epoch, epochs=EPOCHS,\n",
    "                          validation_data=get_validation_dataset, validation_steps=validation_steps)\n",
    "end_time = time.time()\n",
    "print(\"Time elapsed: \", end_time-start_time, \" sec\")"
   ]
  },
  {
   "cell_type": "code",
   "execution_count": 0,
   "metadata": {
    "colab": {
     "base_uri": "https://localhost:8080/",
     "height": 772
    },
    "colab_type": "code",
    "id": "VngeUBIdyJ1T",
    "outputId": "b23831cd-15c3-49be-fcee-23ca33f613ae"
   },
   "outputs": [
    {
     "name": "stdout",
     "output_type": "stream",
     "text": [
      "dict_keys(['val_acc', 'loss', 'val_loss', 'acc'])\n"
     ]
    },
    {
     "data": {
      "image/png": "[encoded data removed]",
      "text/plain": [
       "<Figure size 720x720 with 2 Axes>"
      ]
     },
     "metadata": {
      "tags": []
     },
     "output_type": "display_data"
    }
   ],
   "source": [
    "print(history.history.keys())\n",
    "display_training_curves(history.history['acc'], history.history['val_acc'], 'accuracy', 211)\n",
    "display_training_curves(history.history['loss'], history.history['val_loss'], 'loss', 212)"
   ]
  }
 ],
 "metadata": {
  "accelerator": "TPU",
  "colab": {
   "collapsed_sections": [],
   "name": "Keras Flowers squeezenet.ipynb",
   "provenance": [],
   "toc_visible": true
  },
  "kernelspec": {
   "display_name": "Python 3",
   "language": "python",
   "name": "python3"
  },
  "language_info": {
   "codemirror_mode": {
    "name": "ipython",
    "version": 3
   },
   "file_extension": ".py",
   "mimetype": "text/x-python",
   "name": "python",
   "nbconvert_exporter": "python",
   "pygments_lexer": "ipython3",
   "version": "3.6.9"
  }
 },
 "nbformat": 4,
 "nbformat_minor": 1
}
