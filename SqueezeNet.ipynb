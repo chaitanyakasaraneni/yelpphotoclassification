{
 "cells": [
  {
   "cell_type": "code",
   "execution_count": 20,
   "metadata": {},
   "outputs": [],
   "source": [
    "from keras_applications.imagenet_utils import _obtain_input_shape\n",
    "from keras import backend as K\n",
    "from keras.layers import Input, Convolution2D, MaxPooling2D, Activation, concatenate, Dropout\n",
    "from keras.layers import GlobalAveragePooling2D, GlobalMaxPooling2D\n",
    "from keras.models import Model\n",
    "from keras.engine.topology import get_source_inputs\n",
    "from keras.utils import get_file\n",
    "from keras.utils import layer_utils\n",
    "\n",
    "\n",
    "import numpy as np\n",
    "from keras.applications.imagenet_utils import preprocess_input, decode_predictions\n",
    "from keras.preprocessing import image"
   ]
  },
  {
   "cell_type": "code",
   "execution_count": 21,
   "metadata": {},
   "outputs": [
    {
     "data": {
      "text/html": [
       "<div>\n",
       "<style scoped>\n",
       "    .dataframe tbody tr th:only-of-type {\n",
       "        vertical-align: middle;\n",
       "    }\n",
       "\n",
       "    .dataframe tbody tr th {\n",
       "        vertical-align: top;\n",
       "    }\n",
       "\n",
       "    .dataframe thead th {\n",
       "        text-align: right;\n",
       "    }\n",
       "</style>\n",
       "<table border=\"1\" class=\"dataframe\">\n",
       "  <thead>\n",
       "    <tr style=\"text-align: right;\">\n",
       "      <th></th>\n",
       "      <th>Unnamed: 0</th>\n",
       "      <th>caption</th>\n",
       "      <th>photo_id</th>\n",
       "      <th>business_id</th>\n",
       "      <th>label</th>\n",
       "      <th>class_names_label</th>\n",
       "      <th>path</th>\n",
       "      <th>image</th>\n",
       "    </tr>\n",
       "  </thead>\n",
       "  <tbody>\n",
       "    <tr>\n",
       "      <th>0</th>\n",
       "      <td>0</td>\n",
       "      <td>NaN</td>\n",
       "      <td>MllA1nNpcp1kDteVg6OGUw</td>\n",
       "      <td>rcaPajgKOJC2vo_l3xa42A</td>\n",
       "      <td>inside</td>\n",
       "      <td>2</td>\n",
       "      <td>C:\\Users\\reddy\\Desktop\\257_Project\\yelp_photos...</td>\n",
       "      <td>[[[ 95  69 108]\\n  [135 109 136]\\n  [124 103 1...</td>\n",
       "    </tr>\n",
       "    <tr>\n",
       "      <th>1</th>\n",
       "      <td>1</td>\n",
       "      <td>NaN</td>\n",
       "      <td>YjxBE88Bf6CmTEF2LP1UNA</td>\n",
       "      <td>Kn23LDd740SBVJ7mum0fwg</td>\n",
       "      <td>inside</td>\n",
       "      <td>2</td>\n",
       "      <td>C:\\Users\\reddy\\Desktop\\257_Project\\yelp_photos...</td>\n",
       "      <td>[[[101 132 160]\\n  [129 135 169]\\n  [151 134 1...</td>\n",
       "    </tr>\n",
       "    <tr>\n",
       "      <th>2</th>\n",
       "      <td>2</td>\n",
       "      <td>NaN</td>\n",
       "      <td>1f7izSjM0WjkDRIVbPy1yw</td>\n",
       "      <td>ZkGDCVKSdf8m76cnnalL-A</td>\n",
       "      <td>food</td>\n",
       "      <td>1</td>\n",
       "      <td>C:\\Users\\reddy\\Desktop\\257_Project\\yelp_photos...</td>\n",
       "      <td>[[[223 200 168]\\n  [221 202 172]\\n  [215 200 1...</td>\n",
       "    </tr>\n",
       "    <tr>\n",
       "      <th>3</th>\n",
       "      <td>3</td>\n",
       "      <td>NaN</td>\n",
       "      <td>NcSlcDTEEeOaixotOPk-rA</td>\n",
       "      <td>bF8gv7k_rwZtiDLP2ZB04w</td>\n",
       "      <td>inside</td>\n",
       "      <td>2</td>\n",
       "      <td>C:\\Users\\reddy\\Desktop\\257_Project\\yelp_photos...</td>\n",
       "      <td>[[[ 97  78  61]\\n  [ 98  79  62]\\n  [101  80  ...</td>\n",
       "    </tr>\n",
       "    <tr>\n",
       "      <th>4</th>\n",
       "      <td>4</td>\n",
       "      <td>NaN</td>\n",
       "      <td>5IiIo5UKEW0lWqZ6sWrY_A</td>\n",
       "      <td>50Anorn0DJXFhBr9a9_gHQ</td>\n",
       "      <td>inside</td>\n",
       "      <td>2</td>\n",
       "      <td>C:\\Users\\reddy\\Desktop\\257_Project\\yelp_photos...</td>\n",
       "      <td>[[[104  94  69]\\n  [103  93  68]\\n  [100  93  ...</td>\n",
       "    </tr>\n",
       "  </tbody>\n",
       "</table>\n",
       "</div>"
      ],
      "text/plain": [
       "   Unnamed: 0 caption                photo_id             business_id   label  \\\n",
       "0           0     NaN  MllA1nNpcp1kDteVg6OGUw  rcaPajgKOJC2vo_l3xa42A  inside   \n",
       "1           1     NaN  YjxBE88Bf6CmTEF2LP1UNA  Kn23LDd740SBVJ7mum0fwg  inside   \n",
       "2           2     NaN  1f7izSjM0WjkDRIVbPy1yw  ZkGDCVKSdf8m76cnnalL-A    food   \n",
       "3           3     NaN  NcSlcDTEEeOaixotOPk-rA  bF8gv7k_rwZtiDLP2ZB04w  inside   \n",
       "4           4     NaN  5IiIo5UKEW0lWqZ6sWrY_A  50Anorn0DJXFhBr9a9_gHQ  inside   \n",
       "\n",
       "   class_names_label                                               path  \\\n",
       "0                  2  C:\\Users\\reddy\\Desktop\\257_Project\\yelp_photos...   \n",
       "1                  2  C:\\Users\\reddy\\Desktop\\257_Project\\yelp_photos...   \n",
       "2                  1  C:\\Users\\reddy\\Desktop\\257_Project\\yelp_photos...   \n",
       "3                  2  C:\\Users\\reddy\\Desktop\\257_Project\\yelp_photos...   \n",
       "4                  2  C:\\Users\\reddy\\Desktop\\257_Project\\yelp_photos...   \n",
       "\n",
       "                                               image  \n",
       "0  [[[ 95  69 108]\\n  [135 109 136]\\n  [124 103 1...  \n",
       "1  [[[101 132 160]\\n  [129 135 169]\\n  [151 134 1...  \n",
       "2  [[[223 200 168]\\n  [221 202 172]\\n  [215 200 1...  \n",
       "3  [[[ 97  78  61]\\n  [ 98  79  62]\\n  [101  80  ...  \n",
       "4  [[[104  94  69]\\n  [103  93  68]\\n  [100  93  ...  "
      ]
     },
     "execution_count": 21,
     "metadata": {},
     "output_type": "execute_result"
    }
   ],
   "source": [
    "# Load the data\n",
    "import pandas as pd \n",
    "\n",
    "data = pd.read_csv('combined_json_and_images.csv') \n",
    "\n",
    "# Preview the first 5 lines of the loaded data \n",
    "data.head()"
   ]
  },
  {
   "cell_type": "code",
   "execution_count": 22,
   "metadata": {},
   "outputs": [
    {
     "data": {
      "text/plain": [
       "(200000, 8)"
      ]
     },
     "execution_count": 22,
     "metadata": {},
     "output_type": "execute_result"
    }
   ],
   "source": [
    "data.shape"
   ]
  },
  {
   "cell_type": "code",
   "execution_count": 23,
   "metadata": {},
   "outputs": [],
   "source": [
    "# Here's our 5 categories that we have to classify.\n",
    "# class_names = ['inside', 'outside', 'food', 'drink', 'menu']\n",
    "class_names = ['drink', 'food', 'inside', 'menu', 'outside']\n",
    "class_names_label = { 0:'drink',\n",
    "                      1: 'food',\n",
    "                      2: 'inside',\n",
    "                      3: 'menu',\n",
    "                      4: 'outside',\n",
    "                    }\n",
    "nb_classes = 5"
   ]
  },
  {
   "cell_type": "code",
   "execution_count": 24,
   "metadata": {},
   "outputs": [],
   "source": [
    "x= data.drop(columns=['class_names_label'],axis=1)\n",
    "y= data['class_names_label']"
   ]
  },
  {
   "cell_type": "code",
   "execution_count": 25,
   "metadata": {},
   "outputs": [],
   "source": [
    "x_train_o, x_test_o, y_train , y_test  = train_test_split(x, y, test_size=0.20, random_state=42)"
   ]
  },
  {
   "cell_type": "code",
   "execution_count": 30,
   "metadata": {},
   "outputs": [
    {
     "data": {
      "image/png": "[encoded data removed]",
      "text/plain": [
       "<Figure size 432x288 with 1 Axes>"
      ]
     },
     "metadata": {},
     "output_type": "display_data"
    }
   ],
   "source": [
    "# Plot a pie chart to check proporation of each observed category\n",
    "\n",
    "sizes = np.bincount(y)\n",
    "explode = (0, 0, 0, 0, 0, 0)  \n",
    "plt.pie(sizes, explode=None, labels=class_names,\n",
    "autopct='%1.1f%%', shadow=True, startangle=150)\n",
    "plt.axis('equal')\n",
    "plt.title('Proportion of each observed category')\n",
    "\n",
    "plt.show()"
   ]
  },
  {
   "cell_type": "code",
   "execution_count": 26,
   "metadata": {},
   "outputs": [],
   "source": [
    "sq1x1 = \"squeeze1x1\"\n",
    "exp1x1 = \"expand1x1\"\n",
    "exp3x3 = \"expand3x3\"\n",
    "relu = \"relu_\"\n",
    "\n",
    "WEIGHTS_PATH = \"https://github.com/rcmalli/keras-squeezenet/releases/download/v1.0/squeezenet_weights_tf_dim_ordering_tf_kernels.h5\"\n",
    "WEIGHTS_PATH_NO_TOP = \"https://github.com/rcmalli/keras-squeezenet/releases/download/v1.0/squeezenet_weights_tf_dim_ordering_tf_kernels_notop.h5\"\n"
   ]
  },
  {
   "cell_type": "markdown",
   "metadata": {},
   "source": [
    "### Fire Module\n",
    "1x1 sqeeze layer and 1x1, 3x3 expand convolution layers"
   ]
  },
  {
   "cell_type": "code",
   "execution_count": 27,
   "metadata": {},
   "outputs": [],
   "source": [
    "# Modular function for Fire Node\n",
    "\n",
    "def fire_module(x, fire_id, squeeze=16, expand=64):\n",
    "    s_id = 'fire' + str(fire_id) + '/'\n",
    "\n",
    "    if K.image_data_format() == 'channels_first':\n",
    "        channel_axis = 1\n",
    "    else:\n",
    "        channel_axis = 3\n",
    "    \n",
    "    #squeeze layer\n",
    "    x = Convolution2D(squeeze, (1, 1), padding='valid', name=s_id + sq1x1)(x)\n",
    "    x = Activation('relu', name=s_id + relu + sq1x1)(x)\n",
    "\n",
    "    \n",
    "    #expand layer\n",
    "    left = Convolution2D(expand, (1, 1), padding='valid', name=s_id + exp1x1)(x)\n",
    "    left = Activation('relu', name=s_id + relu + exp1x1)(left)\n",
    "\n",
    "    right = Convolution2D(expand, (3, 3), padding='same', name=s_id + exp3x3)(x)\n",
    "    right = Activation('relu', name=s_id + relu + exp3x3)(right)\n",
    "\n",
    "    x = concatenate([left, right], axis=channel_axis, name=s_id + 'concat')\n",
    "    return x"
   ]
  },
  {
   "cell_type": "code",
   "execution_count": 53,
   "metadata": {},
   "outputs": [],
   "source": [
    "def SqueezeNet(include_top=True, weights='imagenet',\n",
    "               input_tensor=None, input_shape=None,\n",
    "               pooling=None,\n",
    "               classes=1000):\n",
    "    \"\"\"Instantiates the SqueezeNet architecture.\n",
    "    \"\"\"\n",
    "\n",
    "    input_shape = _obtain_input_shape(input_shape,\n",
    "                                      default_size=227,\n",
    "                                      min_size=48,\n",
    "                                      data_format=K.image_data_format(),\n",
    "                                      require_flatten=include_top)\n",
    "\n",
    "    if input_tensor is None:\n",
    "        img_input = Input(shape=input_shape)\n",
    "    else:\n",
    "        if not K.is_keras_tensor(input_tensor):\n",
    "            img_input = Input(tensor=input_tensor, shape=input_shape)\n",
    "        else:\n",
    "            img_input = input_tensor\n",
    "\n",
    "\n",
    "    x = Convolution2D(64, (3, 3), strides=(2, 2), padding='valid', name='conv1')(img_input)\n",
    "    x = Activation('relu', name='relu_conv1')(x)\n",
    "    x = MaxPooling2D(pool_size=(3, 3), strides=(2, 2), name='pool1')(x)\n",
    "\n",
    "    x = fire_module(x, fire_id=2, squeeze=16, expand=64)\n",
    "    x = fire_module(x, fire_id=3, squeeze=16, expand=64)\n",
    "    x = MaxPooling2D(pool_size=(3, 3), strides=(2, 2), name='pool3')(x)\n",
    "\n",
    "    x = fire_module(x, fire_id=4, squeeze=32, expand=128)\n",
    "    x = fire_module(x, fire_id=5, squeeze=32, expand=128)\n",
    "    x = MaxPooling2D(pool_size=(3, 3), strides=(2, 2), name='pool5')(x)\n",
    "\n",
    "    x = fire_module(x, fire_id=6, squeeze=48, expand=192)\n",
    "    x = fire_module(x, fire_id=7, squeeze=48, expand=192)\n",
    "    x = fire_module(x, fire_id=8, squeeze=64, expand=256)\n",
    "    x = fire_module(x, fire_id=9, squeeze=64, expand=256)\n",
    "    \n",
    "    if include_top:\n",
    "    \n",
    "        x = Dropout(0.5, name='drop9')(x)\n",
    "\n",
    "        x = Convolution2D(classes, (1, 1), padding='valid', name='conv10')(x)\n",
    "        x = Activation('relu', name='relu_conv10')(x)\n",
    "        x = GlobalAveragePooling2D()(x)\n",
    "        x = Activation('softmax', name='loss')(x)\n",
    "    else:\n",
    "        if pooling == 'avg':\n",
    "            x = GlobalAveragePooling2D()(x)\n",
    "        elif pooling=='max':\n",
    "            x = GlobalMaxPooling2D()(x)\n",
    "\n",
    "    if input_tensor is not None:\n",
    "        inputs = get_source_inputs(input_tensor)\n",
    "    else:\n",
    "        inputs = img_input\n",
    "\n",
    "    model = Model(inputs, x, name='squeezenet')\n",
    "\n",
    "    # load weights\n",
    "    if weights == 'imagenet':\n",
    "        if include_top:\n",
    "            weights_path = get_file('squeezenet_weights_tf_dim_ordering_tf_kernels.h5',\n",
    "                                    WEIGHTS_PATH,\n",
    "                                    cache_subdir='models')\n",
    "        else:\n",
    "            weights_path = get_file('squeezenet_weights_tf_dim_ordering_tf_kernels_notop.h5',\n",
    "                                    WEIGHTS_PATH_NO_TOP,\n",
    "                                    cache_subdir='models')\n",
    "            \n",
    "        model.load_weights(weights_path)\n",
    "        if K.backend() == 'theano':\n",
    "            layer_utils.convert_all_kernels_in_model(model)\n",
    "    return model\n"
   ]
  },
  {
   "attachments": {
    "architechture.PNG": {
     "image/png": "[encoded data removed]"
    }
   },
   "cell_type": "markdown",
   "metadata": {},
   "source": [
    "### Architechture\n",
    "\n",
    "![architechture.PNG](attachment:architechture.PNG)"
   ]
  },
  {
   "cell_type": "code",
   "execution_count": 54,
   "metadata": {},
   "outputs": [],
   "source": [
    "model = SqueezeNet()"
   ]
  },
  {
   "cell_type": "code",
   "execution_count": 56,
   "metadata": {},
   "outputs": [
    {
     "name": "stdout",
     "output_type": "stream",
     "text": [
      "Predicted: [[('n03871628', 'packet', 0.18813722), ('n07745940', 'strawberry', 0.17472747), ('n04204238', 'shopping_basket', 0.087715656), ('n03874293', 'paddlewheel', 0.068518035), ('n03920288', 'Petri_dish', 0.054815516)]]\n"
     ]
    }
   ],
   "source": [
    "img = image.load_img('_CF-BRZpfeezef9nn4CIqQ.jpg', target_size=(227, 227))\n",
    "x = image.img_to_array(img)\n",
    "x = np.expand_dims(x, axis=0)\n",
    "x = preprocess_input(x)\n",
    "\n",
    "preds = model.predict(x)\n",
    "print('Predicted:', decode_predictions(preds))"
   ]
  }
 ],
 "metadata": {
  "kernelspec": {
   "display_name": "Python 3",
   "language": "python",
   "name": "python3"
  },
  "language_info": {
   "codemirror_mode": {
    "name": "ipython",
    "version": 3
   },
   "file_extension": ".py",
   "mimetype": "text/x-python",
   "name": "python",
   "nbconvert_exporter": "python",
   "pygments_lexer": "ipython3",
   "version": "3.6.9"
  }
 },
 "nbformat": 4,
 "nbformat_minor": 2
}
